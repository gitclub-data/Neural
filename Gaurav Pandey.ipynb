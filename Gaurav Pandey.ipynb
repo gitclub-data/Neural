{
  "nbformat": 4,
  "nbformat_minor": 0,
  "metadata": {
    "colab": {
      "name": "Gaurav Pandey.ipynb",
      "provenance": []
    },
    "kernelspec": {
      "name": "python3",
      "display_name": "Python 3"
    },
    "accelerator": "GPU"
  },
  "cells": [
    {
      "cell_type": "code",
      "metadata": {
        "id": "c0YKgkfy_gGv"
      },
      "source": [
        "import tensorflow as tf\n",
        "from tensorflow.keras import datasets,layers,models\n",
        "import matplotlib.pyplot as plt"
      ],
      "execution_count": null,
      "outputs": []
    },
    {
      "cell_type": "code",
      "metadata": {
        "id": "-lo6zTBw_iuv"
      },
      "source": [
        "(train_images,train_labels),(test_images,test_labels)=datasets.cifar10.load_data()\n",
        "train_images,test_images=train_images/255.0,test_images/255.0"
      ],
      "execution_count": null,
      "outputs": []
    },
    {
      "cell_type": "code",
      "metadata": {
        "id": "84kCxAqy_o3p"
      },
      "source": [
        "model=models.Sequential()\n",
        "model.add(layers.Conv2D(64,(3,3),activation=\"relu\",input_shape=(32,32,3)))\n",
        "model.add(layers.MaxPooling2D((2,2)))\n",
        "model.add(layers.Conv2D(128,(2,2),activation=\"relu\"))\n",
        "model.add(layers.MaxPooling2D((2,2)))\n",
        "model.add(layers.Conv2D(128,(2,2),activation=\"relu\"))"
      ],
      "execution_count": null,
      "outputs": []
    },
    {
      "cell_type": "code",
      "metadata": {
        "colab": {
          "base_uri": "https://localhost:8080/"
        },
        "id": "qN9oC_hD_rH-",
        "outputId": "4a91f53f-e8f1-45cb-e3df-ff7985379a79"
      },
      "source": [
        "model.summary()"
      ],
      "execution_count": null,
      "outputs": [
        {
          "output_type": "stream",
          "text": [
            "Model: \"sequential\"\n",
            "_________________________________________________________________\n",
            "Layer (type)                 Output Shape              Param #   \n",
            "=================================================================\n",
            "conv2d (Conv2D)              (None, 30, 30, 64)        1792      \n",
            "_________________________________________________________________\n",
            "max_pooling2d (MaxPooling2D) (None, 15, 15, 64)        0         \n",
            "_________________________________________________________________\n",
            "conv2d_1 (Conv2D)            (None, 14, 14, 128)       32896     \n",
            "_________________________________________________________________\n",
            "max_pooling2d_1 (MaxPooling2 (None, 7, 7, 128)         0         \n",
            "_________________________________________________________________\n",
            "conv2d_2 (Conv2D)            (None, 6, 6, 128)         65664     \n",
            "=================================================================\n",
            "Total params: 100,352\n",
            "Trainable params: 100,352\n",
            "Non-trainable params: 0\n",
            "_________________________________________________________________\n"
          ],
          "name": "stdout"
        }
      ]
    },
    {
      "cell_type": "code",
      "metadata": {
        "id": "CMDsWlVl_win"
      },
      "source": [
        "model.add(layers.Flatten())\n",
        "model.add(layers.Dense(128,activation=\"relu\"))\n",
        "model.add(layers.Dense(15))"
      ],
      "execution_count": null,
      "outputs": []
    },
    {
      "cell_type": "code",
      "metadata": {
        "colab": {
          "base_uri": "https://localhost:8080/"
        },
        "id": "U-Ki6AZA_0gg",
        "outputId": "464156e3-d167-453d-d4ff-fb311dfcd254"
      },
      "source": [
        "model.compile(optimizer=\"adam\",loss=tf.keras.losses.SparseCategoricalCrossentropy(from_logits=True),metrics=['accuracy'])\n",
        "history=model.fit(train_images,train_labels,epochs=9,validation_data=(test_images,test_labels))"
      ],
      "execution_count": null,
      "outputs": [
        {
          "output_type": "stream",
          "text": [
            "Epoch 1/9\n",
            "1563/1563 [==============================] - 20s 8ms/step - loss: 1.6556 - accuracy: 0.3956 - val_loss: 1.0979 - val_accuracy: 0.6131\n",
            "Epoch 2/9\n",
            "1563/1563 [==============================] - 12s 8ms/step - loss: 1.0516 - accuracy: 0.6306 - val_loss: 0.9220 - val_accuracy: 0.6793\n",
            "Epoch 3/9\n",
            "1563/1563 [==============================] - 12s 8ms/step - loss: 0.8446 - accuracy: 0.7045 - val_loss: 0.8371 - val_accuracy: 0.7071\n",
            "Epoch 4/9\n",
            "1563/1563 [==============================] - 12s 8ms/step - loss: 0.7153 - accuracy: 0.7491 - val_loss: 0.8444 - val_accuracy: 0.7049\n",
            "Epoch 5/9\n",
            "1563/1563 [==============================] - 12s 8ms/step - loss: 0.6088 - accuracy: 0.7881 - val_loss: 0.8072 - val_accuracy: 0.7234\n",
            "Epoch 6/9\n",
            "1563/1563 [==============================] - 12s 8ms/step - loss: 0.5289 - accuracy: 0.8151 - val_loss: 0.8136 - val_accuracy: 0.7305\n",
            "Epoch 7/9\n",
            "1563/1563 [==============================] - 12s 8ms/step - loss: 0.4374 - accuracy: 0.8461 - val_loss: 0.9024 - val_accuracy: 0.7292\n",
            "Epoch 8/9\n",
            "1563/1563 [==============================] - 12s 8ms/step - loss: 0.3641 - accuracy: 0.8724 - val_loss: 0.9661 - val_accuracy: 0.7123\n",
            "Epoch 9/9\n",
            "1563/1563 [==============================] - 12s 8ms/step - loss: 0.2985 - accuracy: 0.8950 - val_loss: 0.9986 - val_accuracy: 0.7216\n"
          ],
          "name": "stdout"
        }
      ]
    },
    {
      "cell_type": "code",
      "metadata": {
        "colab": {
          "base_uri": "https://localhost:8080/"
        },
        "id": "C2mcb34i_3MF",
        "outputId": "dece7ac9-5bf8-43fd-bb24-4dd501579166"
      },
      "source": [
        "test_loss,test_acc=model.evaluate(test_images,test_labels,verbose=2)"
      ],
      "execution_count": null,
      "outputs": [
        {
          "output_type": "stream",
          "text": [
            "313/313 - 1s - loss: 0.9986 - accuracy: 0.7216\n"
          ],
          "name": "stdout"
        }
      ]
    },
    {
      "cell_type": "code",
      "metadata": {
        "colab": {
          "base_uri": "https://localhost:8080/"
        },
        "id": "LJDH5j8E_5QN",
        "outputId": "e8f2fb2f-9e0b-41d9-f44b-6878343dd054"
      },
      "source": [
        "print(test_acc)"
      ],
      "execution_count": null,
      "outputs": [
        {
          "output_type": "stream",
          "text": [
            "0.7215999960899353\n"
          ],
          "name": "stdout"
        }
      ]
    }
  ]
}